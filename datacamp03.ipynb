{
 "cells": [
  {
   "cell_type": "markdown",
   "id": "f920818c",
   "metadata": {},
   "source": [
    "## Getting a Good Night's Sleep"
   ]
  },
  {
   "cell_type": "markdown",
   "id": "53daf9c9",
   "metadata": {},
   "source": [
    "SleepInc has provided you with an anonymized dataset of sleep and lifestyle metrics for 374 individuals. This dataset contains average values for each person calculated over the past six months. The data is saved as `sleep_health_data.csv`.\n",
    "\n",
    "The dataset includes 13 columns covering sleep duration, quality, disorders, exercise, stress, diet, demographics, and other factors related to sleep health. \n",
    "\n",
    "\n",
    "| Column                             | Description |\n",
    "|:---------|:----------------------------------------|  \n",
    "| `Person ID` | An identifier for each individual. |\n",
    "| `Gender` | The gender of the person (Male/Female). |  \n",
    "| `Age` | The age of the person in years. |\n",
    "| `Occupation` | The occupation or profession of the person. |\n",
    "| `Sleep Duration (hours)` | The average number of hours the person sleeps per day. |\n",
    "| `Quality of Sleep (scale: 1-10)` | A subjective rating of the quality of sleep, ranging from 1 to 10. |\n",
    "| `Physical Activity Level (minutes/day)` | The average number of minutes the person engages in physical activity daily. |  \n",
    "| `Stress Level (scale: 1-10)` | A subjective rating of the stress level experienced by the person, ranging from 1 to 10. |\n",
    "| `BMI Category` | The BMI category of the person (e.g., Underweight, Normal, Overweight). |\n",
    "| `Blood Pressure (systolic/diastolic)` | The average blood pressure measurement of the person, indicated as systolic pressure over diastolic pressure. |\n",
    "| `Heart Rate (bpm)` | The average resting heart rate of the person in beats per minute. |\n",
    "| `Daily Steps` | The average number of steps the person takes per day. |\n",
    "| `Sleep Disorder` | The presence or absence of a sleep disorder in the person (None, Insomnia, Sleep Apnea). |\n",
    "\n"
   ]
  },
  {
   "cell_type": "markdown",
   "id": "5ee2a209",
   "metadata": {},
   "source": [
    "1，Which occupation has the lowest average sleep duration? Save this in a string variable called lowest_sleep_occ.\n",
    "\n",
    "2， Which occupation has the lowest average sleep quality? Save this in a string variable called lowest_sleep_quality_occ. Did the occupation with the lowest sleep duration also have the lowest sleep quality? If so assign a boolean value to variable same_occ variable, True if it is the same occupation, and False if it isn't.\n",
    "\n",
    "3， Let's explore how BMI Category can affect sleep disorder rates. Start by finding what ratio of app users in each BMI Category have been diagnosed with Insomnia. Create a dictionary named: bmi_insomnia_ratios. The key should be the BMI Category as a string, while the value should be the ratio of people in this category with insomnia as a float rounded to two decimal places."
   ]
  },
  {
   "cell_type": "code",
   "execution_count": null,
   "id": "476a5cb5",
   "metadata": {},
   "outputs": [],
   "source": [
    "import pandas as pd\n",
    "\n",
    "# load dataset \n",
    "sleep_health_data = pd.read_csv('sleep_health_data.csv')\n",
    "\n",
    "# Which occupation has the lowest average sleep duration?\n",
    "lowest_sleep_occ = sleep_health_data.groupby('Occupation')['Sleep Duration'].mean().idxmin()\n",
    "\n",
    "# Which occupation has the lowest average sleep quality? \n",
    "lowest_sleep_quality_occ = sleep_health_data.groupby('Occupation')['Quality of Sleep'].mean().idxmin()\n",
    "\n",
    "# Did the occupation with the lowest sleep duration also have the lowest sleep quality?\n",
    "same_occ = lowest_sleep_occ == lowest_sleep_quality_occ\n",
    "\n",
    "# create a new column of insomnia\n",
    "sleep_health_data['Insomnia'] = sleep_health_data['Sleep Disorder'].apply(lambda X : X == 'Insomnia')\n",
    "\n",
    "#  ratio of app users in each BMI Category have been diagnosed with Insomnia\n",
    "bmi_insomnia_ratios= sleep_health_data.groupby('BMI Category')['Insomnia'].mean().round(2).to_dict()"
   ]
  },
  {
   "cell_type": "markdown",
   "id": "3a7d32b3",
   "metadata": {},
   "source": [
    "### Datacamp \"solution\""
   ]
  },
  {
   "cell_type": "markdown",
   "id": "45cc1ea1",
   "metadata": {},
   "source": [
    "\n",
    "```\n",
    "\n",
    "# Read in the data \n",
    "sleep_df = pd.read_csv('sleep_health_data.csv')\n",
    "\n",
    "# 1. Which occupation has the lowest average sleep duration? Save this in a string variable called `lowest_sleep_occ`.\n",
    "\n",
    "# Groupby occupation and calculate mean sleep duration \n",
    "sleep_duration = sleep_df.groupby('Occupation')['Sleep Duration'].mean()\n",
    "# Get occupation with lowest average sleep duration\n",
    "lowest_sleep_occ = sleep_duration.sort_values().index[0]\n",
    "\n",
    "# 2. Which occupation had the lowest quality of on average? Did the occupation with the lowest sleep duration also have the worst sleep quality?\n",
    "\n",
    "# Groupby occupation and calculate average sleep quality\n",
    "sleep_quality = sleep_df.groupby('Occupation')['Quality of Sleep'].mean()  \n",
    "# Get occupation with lowest average sleep quality \n",
    "lowest_sleep_quality_occ = sleep_quality.sort_values().index[0]\n",
    "\n",
    "# Compare occupation with the least sleep to occupation with the lowest sleep quality\n",
    "if lowest_sleep_occ == lowest_sleep_quality_occ:\n",
    "  same_occ = True\n",
    "else:\n",
    "  same_occ = False\n",
    "  \n",
    "# 3. Let's explore how BMI Category can affect sleep disorder rates. Start by finding what ratio of app users in each BMI category have been diagnosed with Insomnia.\n",
    "\n",
    "# Normal\n",
    "# Filter the full dataframe to only rows where BMI Category is Normal and Sleep Disorder is Insomnia.\n",
    "normal = sleep_df[(sleep_df[\"BMI Category\"] == \"Normal\") &  \n",
    "                  (sleep_df[\"Sleep Disorder\"] == \"Insomnia\")]\n",
    "normal2 = sleep_df[(sleep_df[\"BMI Category\"] == \"Normal Weight\") &  \n",
    "                  (sleep_df[\"Sleep Disorder\"] == \"Insomnia\")]\n",
    "# Total normal rows               \n",
    "total_normal = len(sleep_df[sleep_df[\"BMI Category\"] == \"Normal\"])  \n",
    "# Calculate normal insomnia ratio               \n",
    "normal_insomnia_ratio = round(len(normal) / total_normal, 2) \n",
    "\n",
    "\n",
    "# Overweight\n",
    "# Filter the full dataframe to only rows where BMI Category is Overweight and Sleep Disorder is Insomnia.\n",
    "overweight = sleep_df[(sleep_df[\"BMI Category\"] == \"Overweight\") &   \n",
    "                      (sleep_df[\"Sleep Disorder\"] == \"Insomnia\")]  \n",
    "# Total overweight rows\n",
    "total_overweight = len(sleep_df[sleep_df[\"BMI Category\"] == \"Overweight\"])  \n",
    "# Calculate overweight insomnia ratio \n",
    "overweight_insomnia_ratio = round(len(overweight) / total_overweight, 2)\n",
    "\n",
    "\n",
    "# Obese\n",
    "# Filter the full dataframe to only rows where BMI Category is Obese and Sleep Disorder is Insomnia.\n",
    "obese = sleep_df[(sleep_df[\"BMI Category\"] == \"Obese\") &  \n",
    "                  (sleep_df[\"Sleep Disorder\"] == \"Insomnia\")]\n",
    "# Total obese rows          \n",
    "total_obese = len(sleep_df[sleep_df[\"BMI Category\"] == \"Obese\"])  \n",
    "# Calculate obese insomnia ratio\n",
    "obese_insomnia_ratio = round(len(obese) / total_obese, 2)\n",
    "\n",
    "\n",
    "# Create dictionary to store the ratios for each BMI category \n",
    "bmi_insomnia_ratios = {\n",
    "    \"Normal\": normal_insomnia_ratio,  \n",
    "    \"Overweight\": overweight_insomnia_ratio,\n",
    "    \"Obese\": obese_insomnia_ratio \n",
    "}\n",
    "```"
   ]
  }
 ],
 "metadata": {
  "kernelspec": {
   "display_name": "Python 3 (ipykernel)",
   "language": "python",
   "name": "python3"
  },
  "language_info": {
   "codemirror_mode": {
    "name": "ipython",
    "version": 3
   },
   "file_extension": ".py",
   "mimetype": "text/x-python",
   "name": "python",
   "nbconvert_exporter": "python",
   "pygments_lexer": "ipython3",
   "version": "3.11.5"
  }
 },
 "nbformat": 4,
 "nbformat_minor": 5
}

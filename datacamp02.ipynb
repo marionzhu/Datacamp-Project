{
 "cells": [
  {
   "cell_type": "markdown",
   "id": "6ac6fed5",
   "metadata": {},
   "source": [
    "## Project: Exploring NYC Public School Test Result Scores"
   ]
  },
  {
   "cell_type": "markdown",
   "id": "23972471",
   "metadata": {},
   "source": [
    "Every year, American high school students take SATs, which are standardized tests intended to measure literacy, numeracy, and writing skills. There are three sections - reading, math, and writing, each with a maximum score of 800 points. These tests are extremely important for students and colleges, as they play a pivotal role in the admissions process.\n",
    "\n",
    "Analyzing the performance of schools is important for a variety of stakeholders, including policy and education professionals, researchers, government, and even parents considering which school their children should attend.\n",
    "\n",
    "You have been provided with a dataset called schools.csv, which is previewed below.\n",
    "\n",
    "You have been tasked with answering three key questions about New York City (NYC) public school SAT performance."
   ]
  },
  {
   "cell_type": "code",
   "execution_count": null,
   "id": "3e1e384b",
   "metadata": {},
   "outputs": [],
   "source": [
    "import pandas as pd\n",
    "\n",
    "# Read in the data\n",
    "schools = pd.read_csv(\"schools.csv\")\n",
    "\n",
    "# Preview the data\n",
    "schools.head()\n",
    "\n",
    "# Which schools are best for math?\n",
    "best_math_schools = schools[schools[\"average_math\"] >= 640][[\"school_name\", \"average_math\"]].sort_values(\"average_math\", ascending=False)\n",
    "\n",
    "# Calculate total_SAT per school\n",
    "schools[\"total_SAT\"] = schools[\"average_math\"] + schools[\"average_reading\"] + schools[\"average_writing\"]\n",
    "\n",
    "# Who are the top 10 performing schools?\n",
    "top_10_schools = schools.groupby(\"school_name\", as_index=False)[\"total_SAT\"].mean().sort_values(\"total_SAT\", ascending=False).head(10)\n",
    "\n",
    "# Which NYC borough has the highest standard deviation for total_SAT?\n",
    "boroughs = schools.groupby(\"borough\")[\"total_SAT\"].agg([\"count\", \"mean\", \"std\"]).round(2)\n",
    "\n",
    "# Filter for max std and reset index so borough is a column\n",
    "largest_std_dev = boroughs[boroughs[\"std\"] == boroughs[\"std\"].max()]\n",
    "\n",
    "# Rename the columns for clarity\n",
    "largest_std_dev = largest_std_dev.rename(columns={\"count\": \"num_schools\", \"mean\": \"average_SAT\", \"std\": \"std_SAT\"})"
   ]
  },
  {
   "cell_type": "markdown",
   "id": "ac3a7624",
   "metadata": {},
   "source": [
    "## Project: Investigating Netflix Movies"
   ]
  },
  {
   "cell_type": "markdown",
   "id": "9e86f316",
   "metadata": {},
   "source": [
    "Your friend suspects that movies are getting shorter and they've found some initial evidence of this. Having peaked your interest, you will perform exploratory data analysis on the netflix_data.csv data to understand what may be contributing to movies getting shorter over time. Your analysis will follow these steps:\n",
    "\n",
    "Load the CSV file and store as netflix_df.\n",
    "Filter the data to remove TV shows and store as netflix_subset.\n",
    "Investigate the Netflix movie data, keeping only the columns \"title\", \"country\", \"genre\", \"release_year\", \"duration\", and saving this into a new DataFrame called netflix_movies.\n",
    "\n",
    "Filter netflix_movies to find the movies that are shorter than 60 minutes, saving the resulting DataFrame as short_movies; inspect the result to find possible contributing factors.\n",
    "\n",
    "Using a for loop and if/elif statements, iterate through the rows of netflix_movies and assign colors of your choice to four genre groups (\"Children\", \"Documentaries\", \"Stand-Up\", and \"Other\" for everything else). Save the results in a colors list. Initialize a figure object called fig and create a scatter plot for movie duration by release year using the colors list to color the points and using the labels \"Release year\" for the x-axis, \"Duration (min)\" for the y-axis, and the title \"Movie Duration by Year of Release\".\n",
    "\n",
    "After inspecting the plot, answer the question \"Are we certain that movies are getting shorter?\" by assigning either \"yes\", \"no\", or \"maybe\" to the variable answer."
   ]
  },
  {
   "cell_type": "code",
   "execution_count": null,
   "id": "1d4ccf1e",
   "metadata": {},
   "outputs": [],
   "source": [
    "# Importing pandas and matplotlib\n",
    "import pandas as pd\n",
    "import matplotlib.pyplot as plt\n",
    "\n",
    "# Read in the Netflix CSV as a DataFrame\n",
    "netflix_df = pd.read_csv(\"netflix_data.csv\")\n",
    "\n",
    "# Subset the DataFrame for type \"Movie\"\n",
    "netflix_subset = netflix_df[netflix_df[\"type\"] == \"Movie\"]\n",
    "\n",
    "# Select only the columns of interest\n",
    "netflix_movies = netflix_subset[[\"title\", \"country\", \"genre\", \"release_year\", \"duration\"]]\n",
    "\n",
    "# Filter for durations shorter than 60 minutes\n",
    "short_movies = netflix_movies[netflix_movies.duration < 60]\n",
    "\n",
    "# Define an empty list\n",
    "colors = []\n",
    "\n",
    "# Iterate over rows of netflix_movies\n",
    "for label, row in netflix_movies.iterrows() :\n",
    "    if row[\"genre\"] == \"Children\" :\n",
    "        colors.append(\"red\")\n",
    "    elif row[\"genre\"] == \"Documentaries\" :\n",
    "        colors.append(\"blue\")\n",
    "    elif row[\"genre\"] == \"Stand-Up\":\n",
    "        colors.append(\"green\")\n",
    "    else:\n",
    "        colors.append(\"black\")\n",
    "        \n",
    "# Inspect the first 10 values in your list        \n",
    "colors[:10]\n",
    "\n",
    "# Set the figure style and initalize a new figure\n",
    "fig = plt.figure(figsize=(12,8))\n",
    "\n",
    "# Create a scatter plot of duration versus release_year\n",
    "plt.scatter(netflix_movies.release_year, netflix_movies.duration, c=colors)\n",
    "\n",
    "# Create a title and axis labels\n",
    "plt.title(\"Movie Duration by Year of Release\")\n",
    "plt.xlabel(\"Release year\")\n",
    "plt.ylabel(\"Duration (min)\")\n",
    "\n",
    "# Show the plot\n",
    "plt.show()\n",
    "\n",
    "# Are we certain that movies are getting shorter?\n",
    "answer = \"maybe\""
   ]
  }
 ],
 "metadata": {
  "kernelspec": {
   "display_name": "Python 3 (ipykernel)",
   "language": "python",
   "name": "python3"
  },
  "language_info": {
   "codemirror_mode": {
    "name": "ipython",
    "version": 3
   },
   "file_extension": ".py",
   "mimetype": "text/x-python",
   "name": "python",
   "nbconvert_exporter": "python",
   "pygments_lexer": "ipython3",
   "version": "3.11.5"
  }
 },
 "nbformat": 4,
 "nbformat_minor": 5
}
